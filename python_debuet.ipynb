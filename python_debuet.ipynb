{
 "metadata": {
  "name": "",
  "signature": "sha256:f852398c4b7dc0228c3382a004444ce8656a2715c7dca7ece95f57d11a6e0413"
 },
 "nbformat": 3,
 "nbformat_minor": 0,
 "worksheets": [
  {
   "cells": [
    {
     "cell_type": "heading",
     "level": 1,
     "metadata": {},
     "source": [
      "IPython Debuet!!\n",
      "2014.0718\n"
     ]
    },
    {
     "cell_type": "heading",
     "level": 2,
     "metadata": {},
     "source": [
      "\u3053\u306e\u30da\u30fc\u30b8\u306f\u79c1\u306eipython\u306e\u7df4\u7fd2\u7528\u30da\u30fc\u30b8\u3060\u3088\uff01\n"
     ]
    },
    {
     "cell_type": "markdown",
     "metadata": {},
     "source": [
      "\u307e\u305a\u306f\u304d\u307b\u3093\u306eHello World\u304b\u3089\n"
     ]
    },
    {
     "cell_type": "raw",
     "metadata": {},
     "source": [
      "\\dot \\gamma"
     ]
    },
    {
     "cell_type": "code",
     "collapsed": false,
     "input": [
      "print('Hello World!!    ')"
     ],
     "language": "python",
     "metadata": {},
     "outputs": [
      {
       "output_type": "stream",
       "stream": "stdout",
       "text": [
        "Hello World!!    \n"
       ]
      }
     ],
     "prompt_number": 3
    },
    {
     "cell_type": "markdown",
     "metadata": {},
     "source": [
      "\u5b9f\u884c\u306f [Shift]+[Enter]\u3060\u3088"
     ]
    },
    {
     "cell_type": "markdown",
     "metadata": {},
     "source": [
      "http://nbviewer.ipython.org/gist/mkatsura/6051906\u3000\u2190\n",
      "\u3053\u306e\u30b5\u30a4\u30c8\u304c\u53c2\u8003\u306b\u306a\u308b\u3088"
     ]
    },
    {
     "cell_type": "code",
     "collapsed": false,
     "input": [
      "pwd\n"
     ],
     "language": "python",
     "metadata": {},
     "outputs": [
      {
       "metadata": {},
       "output_type": "pyout",
       "prompt_number": 4,
       "text": [
        "u'C:\\\\cygwin\\\\home\\\\Koutarou Otomura'"
       ]
      }
     ],
     "prompt_number": 4
    },
    {
     "cell_type": "code",
     "collapsed": false,
     "input": [
      "ls *.txt"
     ],
     "language": "python",
     "metadata": {},
     "outputs": [
      {
       "output_type": "stream",
       "stream": "stdout",
       "text": [
        " \u30c9\u30e9\u30a4\u30d6 C \u306e\u30dc\u30ea\u30e5\u30fc\u30e0 \u30e9\u30d9\u30eb\u306f OS \u3067\u3059\n",
        " \u30dc\u30ea\u30e5\u30fc\u30e0 \u30b7\u30ea\u30a2\u30eb\u756a\u53f7\u306f 60EF-00C3 \u3067\u3059\n",
        "\n",
        " C:\\cygwin\\home\\Koutarou Otomura \u306e\u30c7\u30a3\u30ec\u30af\u30c8\u30ea\n",
        "\n",
        "2014/07/18  02:58               100 demodate.txt\n",
        "               1 \u500b\u306e\u30d5\u30a1\u30a4\u30eb                 100 \u30d0\u30a4\u30c8\n",
        "               0 \u500b\u306e\u30c7\u30a3\u30ec\u30af\u30c8\u30ea  271,515,561,984 \u30d0\u30a4\u30c8\u306e\u7a7a\u304d\u9818\u57df\n"
       ]
      }
     ],
     "prompt_number": 5
    },
    {
     "cell_type": "code",
     "collapsed": false,
     "input": [
      "filename='demodate.txt'"
     ],
     "language": "python",
     "metadata": {},
     "outputs": [],
     "prompt_number": 6
    },
    {
     "cell_type": "code",
     "collapsed": false,
     "input": [
      "folder_name = u'C:\\\\cygwin\\\\home\\\\Koutarou Otomura'"
     ],
     "language": "python",
     "metadata": {},
     "outputs": [],
     "prompt_number": 7
    },
    {
     "cell_type": "code",
     "collapsed": false,
     "input": [
      "data_fullpath = folder_name +'\\\\'+filename"
     ],
     "language": "python",
     "metadata": {},
     "outputs": [],
     "prompt_number": 8
    },
    {
     "cell_type": "code",
     "collapsed": false,
     "input": [
      "print(data_fullpath)"
     ],
     "language": "python",
     "metadata": {},
     "outputs": [
      {
       "output_type": "stream",
       "stream": "stdout",
       "text": [
        "C:\\cygwin\\home\\Koutarou Otomura\\demodate.txt\n"
       ]
      }
     ],
     "prompt_number": 9
    },
    {
     "cell_type": "code",
     "collapsed": false,
     "input": [
      "import os.path\n",
      "print(os.path.normpath(data_fullpath))"
     ],
     "language": "python",
     "metadata": {},
     "outputs": [
      {
       "output_type": "stream",
       "stream": "stdout",
       "text": [
        "C:\\cygwin\\home\\Koutarou Otomura\\demodate.txt\n"
       ]
      }
     ],
     "prompt_number": 10
    },
    {
     "cell_type": "code",
     "collapsed": false,
     "input": [
      "import numpy as np\n",
      "\n",
      "data=np.loadtxt(data_fullpath,delimiter=',',skiprows=1)"
     ],
     "language": "python",
     "metadata": {},
     "outputs": [],
     "prompt_number": 11
    },
    {
     "cell_type": "code",
     "collapsed": false,
     "input": [
      "print  data"
     ],
     "language": "python",
     "metadata": {},
     "outputs": [
      {
       "output_type": "stream",
       "stream": "stdout",
       "text": [
        "[[  1.    1. ]\n",
        " [  2.    3.8]\n",
        " [  3.    9.5]\n",
        " [  4.   17. ]\n",
        " [  5.   28. ]]\n"
       ]
      }
     ],
     "prompt_number": 12
    },
    {
     "cell_type": "code",
     "collapsed": false,
     "input": [
      "import matplotlib "
     ],
     "language": "python",
     "metadata": {},
     "outputs": [],
     "prompt_number": 13
    },
    {
     "cell_type": "code",
     "collapsed": false,
     "input": [
      "plt"
     ],
     "language": "python",
     "metadata": {},
     "outputs": [
      {
       "metadata": {},
       "output_type": "pyout",
       "prompt_number": 14,
       "text": [
        "<module 'matplotlib.pyplot' from 'C:\\Users\\Koutarou Otomura\\AppData\\Local\\Enthought\\Canopy\\User\\lib\\site-packages\\matplotlib\\pyplot.py'>"
       ]
      }
     ],
     "prompt_number": 14
    },
    {
     "cell_type": "code",
     "collapsed": false,
     "input": [
      "x=data[:,0]\n",
      "y=data[:,1]"
     ],
     "language": "python",
     "metadata": {},
     "outputs": [],
     "prompt_number": 15
    },
    {
     "cell_type": "code",
     "collapsed": false,
     "input": [
      "plt.plot(x,y)"
     ],
     "language": "python",
     "metadata": {},
     "outputs": [
      {
       "metadata": {},
       "output_type": "pyout",
       "prompt_number": 19,
       "text": [
        "[<matplotlib.lines.Line2D at 0x9117c50>]"
       ]
      }
     ],
     "prompt_number": 19
    },
    {
     "cell_type": "code",
     "collapsed": false,
     "input": [],
     "language": "python",
     "metadata": {},
     "outputs": [],
     "prompt_number": 16
    }
   ],
   "metadata": {}
  }
 ]
}