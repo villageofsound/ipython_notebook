{
 "metadata": {
  "name": "",
  "signature": "sha256:3a63acdf871b7a76a8fc2c49f0938d225c9dc0113a82c1663c689c01475b26e4"
 },
 "nbformat": 3,
 "nbformat_minor": 0,
 "worksheets": [
  {
   "cells": [
    {
     "cell_type": "code",
     "collapsed": false,
     "input": [
      "%matplotlib inline\n",
      "import numpy as np\n",
      "import matplotlib.pyplot as plt\n",
      "import time\n",
      "import os"
     ],
     "language": "python",
     "metadata": {},
     "outputs": [],
     "prompt_number": 1
    },
    {
     "cell_type": "markdown",
     "metadata": {},
     "source": [
      "We want to solve the 2D diffusion equation:\n",
      "$$\\partial_t \\phi = a \\left(\\frac{\\partial^2\\phi}{\\partial x^2} + \\frac{\\partial^2\\phi}{\\partial y^2}\\right)$$\n",
      "A finite (forward) difference approximation gives us\n",
      "$$\n",
      "\\begin{align}\n",
      "\\phi_{i,j}^{n + 1} &= \\phi_{i,j}^{n} + a\\Delta t\\left(\\frac{\\phi_{i+1,j}^{n} - 2 \\phi_{i,j}^n + \\phi_{i-1,j}^{n}}{\\left(\\Delta x\\right)^2}\n",
      "+ \\frac{\\phi_{i,j+1}^{n} - 2\\phi_{i,j}^{n} + \\phi_{i,j-1}^n}{\\left(\\Delta y\\right)^2}\\right)\n",
      "\\end{align}\n",
      "$$\n",
      "where \n",
      "$$\\phi_{i,j} = \\phi(x=i \\Delta x, y = j \\Delta y)$$\n",
      "to ensure stability we need\n",
      "$$\\Delta t \\le \\frac{\\Delta x^2 \\Delta y^2}{2 a \\left(\\Delta x^2 + \\delta y^2\\right)}$$"
     ]
    },
    {
     "cell_type": "markdown",
     "metadata": {},
     "source": [
      "Lets start by defining a function to get maximum time step"
     ]
    },
    {
     "cell_type": "code",
     "collapsed": false,
     "input": [
      "# a  : diffusion coefficient\n",
      "# dx : grid spacing in x\n",
      "# dy : grid spacing in y\n",
      "def maxdt(a, dx, dy):\n",
      "    return dx*dx*dy*dy/(2 * a * (dx*dx + dy*dy))"
     ],
     "language": "python",
     "metadata": {},
     "outputs": [],
     "prompt_number": 2
    },
    {
     "cell_type": "markdown",
     "metadata": {},
     "source": [
      "Now, let's define the parameters of our system. We will solve diffusion equation on a square grid of length $L=2^7$ in both dimensions"
     ]
    },
    {
     "cell_type": "code",
     "collapsed": false,
     "input": [
      "nx = ny = 2**7              # number of grid points = 2^7 in x and y\n",
      "dx = dy = 1.0               # grid spacing\n",
      "lx, ly = nx*dx, ny*dy       # length of simulation box\n",
      "hlx, hly = lx/2.0, ly/2.0   # half length of box\n",
      "\n",
      "a = 0.5                     # diffusion coefficient\n",
      "dt = maxdt(a, dx, dy)/2.0   # time step for integrator\n",
      "\n",
      "print 'lx, ly    = ', lx, ly\n",
      "print 'dx, dy    = ', dx, dy\n",
      "print 'nx, ny    = ', nx, ny\n",
      "print 'diffusion = ', a\n",
      "print 'dt        = ', dt"
     ],
     "language": "python",
     "metadata": {},
     "outputs": [
      {
       "output_type": "stream",
       "stream": "stdout",
       "text": [
        "lx, ly    =  128.0 128.0\n",
        "dx, dy    =  1.0 1.0\n",
        "nx, ny    =  128 128\n",
        "diffusion =  0.5\n",
        "dt        =  0.25\n"
       ]
      }
     ],
     "prompt_number": 3
    },
    {
     "cell_type": "markdown",
     "metadata": {},
     "source": [
      "Now lets define a routine that calculates $\\phi^{n+1}$ from $\\phi^n$.\n",
      "As boundary conditions, let us set\n",
      "$$\n",
      "\\phi(0, y) = \\phi(L, y) = \\phi(x, 0) = \\phi(x, L) = 0\n",
      "$$\n",
      "To start, we use simple \"for\" loops, like in c"
     ]
    },
    {
     "cell_type": "code",
     "collapsed": false,
     "input": [
      "\n",
      "def solve(phi, phi0, a, dt, dx, dy):\n",
      "    dx2,dy2 = 1.0/dx*dx, 1.0/dy*dy\n",
      "    for i in range(1, nx-1):\n",
      "        for j in range(1, ny-1):\n",
      "            phi_dx2 = (phi0[i+1,j] - 2*phi0[i,j] + phi0[i-1,j])*dx2\n",
      "            phi_dy2 = (phi0[i,j+1] - 2*phi0[i,j] + phi0[i,j-1])*dy2\n",
      "            phi[i,j] = phi0[i,j]+a*dt*(phi_dx2 + phi_dy2)\n"
     ],
     "language": "python",
     "metadata": {},
     "outputs": [],
     "prompt_number": 4
    },
    {
     "cell_type": "markdown",
     "metadata": {},
     "source": [
      "Notice that the for loops go from 1 to n-1, that is, we skip the first and last points"
     ]
    },
    {
     "cell_type": "markdown",
     "metadata": {},
     "source": [
      "Later, we will see that 'for' loops in python are super slow.\n",
      "Instead, we should use numpy arrays indexing/slicing notation, to get fast vectorized code. Here is an example"
     ]
    },
    {
     "cell_type": "code",
     "collapsed": false,
     "input": [
      "test = np.array(range(10))\n",
      "print 'full array  :', test[:]\n",
      "print 'shift left  :', test[0:-2]\n",
      "print 'inner array :', test[1:-1]\n",
      "print 'shift right :', test[2:]"
     ],
     "language": "python",
     "metadata": {},
     "outputs": [
      {
       "output_type": "stream",
       "stream": "stdout",
       "text": [
        "full array  : [0 1 2 3 4 5 6 7 8 9]\n",
        "shift left  : [0 1 2 3 4 5 6 7]\n",
        "inner array : [1 2 3 4 5 6 7 8]\n",
        "shift right : [2 3 4 5 6 7 8 9]\n"
       ]
      }
     ],
     "prompt_number": 5
    },
    {
     "cell_type": "markdown",
     "metadata": {},
     "source": [
      "if 'x' is a numpy array, x[start:end:skip] will give me all the elements from position 'start', to position 'end', in increments of 'skip'\n",
      "\n",
      "In 'C' you would achieve the same result using something like\n",
      "\n",
      "for(int i = start; i < end; i= i+skip)\n",
      "\n",
      "Using this, we can define a new (faster) solver"
     ]
    },
    {
     "cell_type": "code",
     "collapsed": false,
     "input": [
      "def solve_fast(phi, phi0, a, dt, dx, dy):\n",
      "    dx2,dy2 = 1.0/dx*dx, 1.0/dy*dy\n",
      "    phi[1:-1,1:-1] = phi0[1:-1,1:-1] + a*dt*((phi0[0:-2,1:-1] - 2*phi0[1:-1,1:-1] + phi0[2:,1:-1]) +\n",
      "                                             (phi0[1:-1,0:-2] - 2*phi0[1:-1,1:-1] + phi0[1:-1,2:]))"
     ],
     "language": "python",
     "metadata": {},
     "outputs": [],
     "prompt_number": 6
    },
    {
     "cell_type": "markdown",
     "metadata": {},
     "source": [
      "Now, we are just missing the initial condition. We want the concentration to be zero everywhere except within a ring centered at the origin, of inner radius 8 and outer radius 16\n",
      "$$\n",
      "    \\phi^0(x,y) = \\begin{cases}\n",
      "    1 ,& \\text{if}\\;8^2 < (x-L/2)^2 + (y-L/2)^2 < 16^2\\\\\n",
      "    0 & \\text{otherwise}\n",
      "    \\end{cases}\n",
      "$$"
     ]
    },
    {
     "cell_type": "code",
     "collapsed": false,
     "input": [
      "def init(phi):\n",
      "    phi[:,:] = 0.0\n",
      "    for i in range(nx):\n",
      "        xi = (i*dx - hlx)**2\n",
      "        for j in range(ny):\n",
      "            yj = (j*dy - hly)**2\n",
      "            rij = np.sqrt(xi +  yj)\n",
      "            if (rij < 16 and rij > 8):\n",
      "                phi[i,j] = 1.0"
     ],
     "language": "python",
     "metadata": {},
     "outputs": [],
     "prompt_number": 7
    },
    {
     "cell_type": "markdown",
     "metadata": {},
     "source": [
      "Last, lets define a function to visualize our data. We will use the standard matplotlib library and the imshow function"
     ]
    },
    {
     "cell_type": "code",
     "collapsed": false,
     "input": [
      "def draw(phi):\n",
      "    plt.imshow(phi, cmap=plt.cm.hot, vmin=0, vmax=1, origin='lower');\n",
      "    plt.colorbar()"
     ],
     "language": "python",
     "metadata": {},
     "outputs": [],
     "prompt_number": 8
    },
    {
     "cell_type": "code",
     "collapsed": false,
     "input": [
      "phi0 = np.zeros((nx,ny))\n",
      "phi1 = np.zeros((nx,ny))\n",
      "init(phi0) \n",
      "draw(phi0)"
     ],
     "language": "python",
     "metadata": {},
     "outputs": [
      {
       "metadata": {},
       "output_type": "display_data",
       "png": "[encoded data removed]",
       "text": [
        "<matplotlib.figure.Figure at 0x822d4a8>"
       ]
      }
     ],
     "prompt_number": 9
    },
    {
     "cell_type": "markdown",
     "metadata": {},
     "source": [
      "Lets run our simple solver for 500 time steps"
     ]
    },
    {
     "cell_type": "code",
     "collapsed": false,
     "input": [
      "init(phi0)\n",
      "tstart = time.time()\n",
      "ts = 500\n",
      "for i in range(ts):\n",
      "    solve(phi1, phi0, a, dt, dx, dy)\n",
      "    phi0[:,:] = phi1[:,:]\n",
      "    \n",
      "tend = time.time()\n",
      "print 'finished', (tend-tstart)/60.0"
     ],
     "language": "python",
     "metadata": {},
     "outputs": [
      {
       "output_type": "stream",
       "stream": "stdout",
       "text": [
        "finished 0.602783334255\n"
       ]
      }
     ],
     "prompt_number": 10
    },
    {
     "cell_type": "code",
     "collapsed": false,
     "input": [
      "init(phi0)\n",
      "tstart = time.time()\n",
      "ts = 500\n",
      "for i in range(ts):\n",
      "    solve_fast(phi1, phi0, a, dt, dx, dy)\n",
      "    phi0[:,:] = phi1[:,:]\n",
      "\n",
      "tend = time.time()\n",
      "print 'finished', (tend-tstart)/60.0"
     ],
     "language": "python",
     "metadata": {},
     "outputs": [
      {
       "output_type": "stream",
       "stream": "stdout",
       "text": [
        "finished 0.00271666447322\n"
       ]
      }
     ],
     "prompt_number": 11
    },
    {
     "cell_type": "markdown",
     "metadata": {},
     "source": [
      "Conclusion: never use for loops (if possible)"
     ]
    },
    {
     "cell_type": "code",
     "collapsed": false,
     "input": [
      "draw(phi1)"
     ],
     "language": "python",
     "metadata": {},
     "outputs": [
      {
       "metadata": {},
       "output_type": "display_data",
       "png": "[encoded data removed]",
       "text": [
        "<matplotlib.figure.Figure at 0x8220cf8>"
       ]
      }
     ],
     "prompt_number": 12
    },
    {
     "cell_type": "markdown",
     "metadata": {},
     "source": [
      "How to make an animation?\n",
      "Let's redefine our draw function, to save the figure instead of displaying it"
     ]
    },
    {
     "cell_type": "code",
     "collapsed": false,
     "input": [
      "def save_draw(fname, phi):\n",
      "    fig, ax = plt.subplots()\n",
      "    m=ax.imshow(phi, cmap=plt.cm.hot, vmin=0, vmax=1, origin='lower');\n",
      "    fig.colorbar(m)\n",
      "    fig.savefig(fname)\n",
      "    plt.close(fig)"
     ],
     "language": "python",
     "metadata": {},
     "outputs": [],
     "prompt_number": 13
    },
    {
     "cell_type": "code",
     "collapsed": false,
     "input": [
      "init(phi0)\n",
      "tstart = time.time()\n",
      "im_count = 0\n",
      "ts = 500\n",
      "for i in range(ts):\n",
      "    solve(phi1, phi0, a, dt, dx, dy)\n",
      "    phi0[:,:] = phi1[:,:]\n",
      "    \n",
      "    #only save every 5 frames\n",
      "    if (np.mod(i, 5) == 0):\n",
      "        save_draw('./images_diffusion/fig_'+str(im_count)+'.png', phi1)\n",
      "        im_count = im_count + 1\n",
      "\n",
      "tend = time.time()\n",
      "print 'finished', (tend-tstart)/60.0"
     ],
     "language": "python",
     "metadata": {},
     "outputs": [
      {
       "output_type": "stream",
       "stream": "stdout",
       "text": [
        "finished 1.41720000108\n"
       ]
      }
     ],
     "prompt_number": 14
    },
    {
     "cell_type": "markdown",
     "metadata": {},
     "source": [
      "If you have ffmpeg installed on your computer, you can create an animation from all the png files... (to get it to work on a Mac, I had to use webm format with the libvpx encoder)"
     ]
    },
    {
     "cell_type": "code",
     "collapsed": false,
     "input": [
      "%%bash\n",
      "ffmpeg -i ./fig_%d.png -vcodec libvpx ./animation.webm"
     ],
     "language": "python",
     "metadata": {},
     "outputs": [
      {
       "output_type": "stream",
       "stream": "stderr",
       "text": [
        "bash: line 1: ffmpeg: \u30b3\u30de\u30f3\u30c9\u304c\u898b\u3064\u304b\u308a\u307e\u305b\u3093\n"
       ]
      }
     ],
     "prompt_number": 18
    },
    {
     "cell_type": "markdown",
     "metadata": {},
     "source": [
      "You can embed the video directly in this notebook"
     ]
    },
    {
     "cell_type": "code",
     "collapsed": false,
     "input": [
      "from IPython.display import HTML\n",
      "HTML(\"\"\"\n",
      "<video width=\"320\" height=\"240\" controls>\n",
      "  <source src=\"./animation.webm\" type=\"video/webm\">\n",
      "</video>\n",
      "\"\"\")"
     ],
     "language": "python",
     "metadata": {},
     "outputs": []
    },
    {
     "cell_type": "markdown",
     "metadata": {},
     "source": [
      "and you can even embed Youtube videos..."
     ]
    },
    {
     "cell_type": "code",
     "collapsed": false,
     "input": [
      "from IPython.display import YouTubeVideo\n",
      "# no comments...\n",
      "YouTubeVideo('laOoh0yk_fg')"
     ],
     "language": "python",
     "metadata": {},
     "outputs": [
      {
       "html": [
        "\n",
        "        <iframe\n",
        "            width=\"400\"\n",
        "            height=300\"\n",
        "            src=\"https://www.youtube.com/embed/laOoh0yk_fg\"\n",
        "            frameborder=\"0\"\n",
        "            allowfullscreen\n",
        "        ></iframe>\n",
        "        "
       ],
       "metadata": {},
       "output_type": "pyout",
       "prompt_number": 1,
       "text": [
        "<IPython.lib.display.YouTubeVideo at 0x102586290>"
       ]
      }
     ],
     "prompt_number": 1
    },
    {
     "cell_type": "code",
     "collapsed": false,
     "input": [
      "import seaborn as sns\n",
      "import brewer2mpl"
     ],
     "language": "python",
     "metadata": {},
     "outputs": [],
     "prompt_number": 11
    },
    {
     "cell_type": "markdown",
     "metadata": {},
     "source": []
    },
    {
     "cell_type": "code",
     "collapsed": false,
     "input": [
      "%matplotlib inline\n",
      "bmap = brewer2mpl.get_map(\"Set1\",\"Qualitative\", 9).mpl_colors\n",
      "fig, ax = plt.subplots()\n",
      "x =np.linspace(0,2.0*np.pi,100)\n",
      "ax.plot(x,np.sin(x),color = bmap[0])\n"
     ],
     "language": "python",
     "metadata": {},
     "outputs": [
      {
       "metadata": {},
       "output_type": "pyout",
       "prompt_number": 13,
       "text": [
        "[<matplotlib.lines.Line2D at 0xc039df0>]"
       ]
      },
      {
       "metadata": {},
       "output_type": "display_data",
       "png": "[encoded data removed]",
       "text": [
        "<matplotlib.figure.Figure at 0xc0220b0>"
       ]
      }
     ],
     "prompt_number": 13
    },
    {
     "cell_type": "code",
     "collapsed": false,
     "input": [],
     "language": "python",
     "metadata": {},
     "outputs": []
    }
   ],
   "metadata": {}
  }
 ]
}