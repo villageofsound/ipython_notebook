{
 "metadata": {
  "name": "intro_data_analysis"
 },
 "nbformat": 3,
 "nbformat_minor": 0,
 "worksheets": [
  {
   "cells": [
    {
     "cell_type": "markdown",
     "metadata": {},
     "source": [
      "# ipython notebook \u3092\u7528\u3044\u305f\u3001\u30c7\u30fc\u30bf\u89e3\u6790\u306e\u65b9\u6cd5 #\n",
      "\u6842\u8aa0\n",
      "\n",
      "[INDEX](https://sites.google.com/site/makotokatsura4ipythonnotebook/ipythonnb4jpnexp)"
     ]
    },
    {
     "cell_type": "markdown",
     "metadata": {},
     "source": [
      "## \u306f\u3058\u3081\u306b ##\n",
      "python\u306f\u6c4e\u7528\u6027\u306e\u3042\u308b\u30d7\u30ed\u30b0\u30e9\u30df\u30f3\u30b0\u8a00\u8a9e\u3067\u3042\u308a\u3001\u73fe\u5728\u306f\u69d8\u3005\u306a\u5206\u91ce\u3067\u4f7f\u308f\u308c\u3066\u3044\u307e\u3059\u3002  \n",
      "\u79d1\u5b66\u7684\u306a\u30c7\u30fc\u30bf\u89e3\u6790\u306e\u5206\u91ce\u3067\u306f\u3001\n",
      "\n",
      "* numpy\n",
      "* scipy\n",
      "* matplotlib\n",
      "\n",
      "\u3068\u3044\u3063\u305f\u30d1\u30c3\u30b1\u30fc\u30b8\u3092\u7528\u3044\u308b\u4e8b\u306b\u3088\u308a\u3001\u67d4\u8edf\u3067\u9ad8\u7cbe\u5ea6\u306a\u30c7\u30fc\u30bf\u89e3\u6790\u3068\u5947\u9e97\u306a\u30b0\u30e9\u30d5\u4f5c\u6210\u304c\u53ef\u80fd\u3067\u3059\u3002\n",
      "\n",
      "\u3057\u304b\u3057\u3001\u305d\u306e\u305f\u3081\u306b\u306f\u3001python\u3092\u30d7\u30ed\u30b0\u30e9\u30df\u30f3\u30b0\u8a00\u8a9e\u3068\u3057\u3066\u7fd2\u5f97\u3057\u3064\u3064\u3001\u3053\u308c\u3089\u306e\u30d1\u30c3\u30b1\u30fc\u30b8\u306e\u5229\u7528\u65b9\u6cd5\u3092\u3082\u77e5\u308b\u5fc5\u8981\u304c\u3042\u308a\u307e\u3059\u3002  \n",
      "\u3053\u308c\u306f\u3001\u521d\u5fc3\u8005\u306b\u306f\u5927\u5909\u96e3\u3057\u3044\u4e8b\u306e\u3088\u3046\u306b\u898b\u3048\u308b\u3068\u601d\u3044\u307e\u3059\u3002  \n",
      "\u3053\u3053\u3067\u306f\u3001ipython notebook\u3092\u7528\u3044\u305f\u65b9\u6cd5\u3092\u7d39\u4ecb\u3057\u307e\u3059\u3002  \n",
      "\n",
      "## Hello World ##\n",
      "\u30d7\u30ed\u30b0\u30e9\u30df\u30f3\u30b0\u8a00\u8a9e\u3092\u52c9\u5f37\u3057\u305f\u65b9\u306a\u3089\u3054\u5b58\u77e5\u306e\u901a\u308a\u3001\"Hello World!\"\u3068\u3044\u3046\u4e00\u6587\u3092\u51fa\u529b\u3059\u308b\u3068\u3053\u308d\u304b\u3089\u3001\u30b9\u30bf\u30fc\u30c8\u3055\u305b\u307e\u3057\u3087\u3046\u3002"
     ]
    },
    {
     "cell_type": "code",
     "collapsed": false,
     "input": [
      "print(\"Hello World!\")"
     ],
     "language": "python",
     "metadata": {},
     "outputs": [
      {
       "output_type": "stream",
       "stream": "stdout",
       "text": [
        "Hello World!\n"
       ]
      }
     ],
     "prompt_number": 1
    },
    {
     "cell_type": "markdown",
     "metadata": {},
     "source": [
      "\u4e0a\u306eIn [1]: \u306e\u4e0b\u306b  \n",
      "print \"Hello World!\"  \n",
      "\u3068\u5165\u529b\u3057\u3001shift\u30ad\u30fc\u3092\u62bc\u3057\u306a\u304c\u3089\u3001enter\u30ad\u30fc\u3092\u62bc\u3057\u3066\u4e0b\u3055\u3044\u3002  \n",
      "\u305d\u3046\u3059\u308c\u3070\u3001\u3053\u306e\u547d\u4ee4\u304c\u5b9f\u884c\u3055\u308c\u3001\u5165\u529b\u884c\u306e\u4e0b\u306b\n",
      "Hello World!\n",
      "\u3068\u51fa\u529b\u3055\u308c\u308b\u306f\u305a\u3067\u3059\u3002  \n",
      "\u3053\u308c\u3067\u306f\u3058\u3081\u306e\u4e00\u6b69\u306f\u7d42\u308f\u308a\u3067\u3059\u3002"
     ]
    },
    {
     "cell_type": "markdown",
     "metadata": {},
     "source": [
      "## \u57fa\u672c\u7684\u306a\u8003\u3048\u65b9 ##\n",
      "\u521d\u5fc3\u8005\u306f\u77e5\u8b58\u304c\u3042\u308a\u307e\u305b\u3093\u3002\u3057\u305f\u304c\u3063\u3066\u3001\u52b9\u7387\u7684\u306a\u30d7\u30ed\u30b0\u30e9\u30df\u30f3\u30b0\u306a\u3069\u3067\u304d\u308b\u306f\u305a\u304c\u3042\u308a\u307e\u305b\u3093\u3002  \n",
      "ipython notebook\u306f\u305d\u306e\u3088\u3046\u306a\u4eba\u306b\u512a\u3057\u3044\u74b0\u5883\u3060\u3068\u601d\u3044\u307e\u3059\u3002  \n",
      "\u3067\u304d\u308b\u4e8b\u3092\u5897\u3084\u3057\u3066\u3044\u3063\u3066\u3001\u305d\u308c\u3092\u6574\u7406\u3057\u3066\u3044\u3051\u3070\u81ea\u7136\u306b\u30d7\u30ed\u30b0\u30e9\u30e0\u304c\u7a4d\u307f\u3042\u304c\u3063\u3066\u3044\u304d\u307e\u3059\u3002"
     ]
    },
    {
     "cell_type": "markdown",
     "metadata": {},
     "source": [
      "## \u3067\u304d\u308b\u4e8b\u3092\u3069\u3046\u3084\u3063\u3066\u5897\u3084\u3059\u304b ##\n",
      "\u52ff\u8ad6\u3001\u57fa\u672c\u7684\u306a\u4e8b\u9805\u306b\u3064\u3044\u3066\u306f\u5165\u9580\u66f8\u3084\u5165\u9580\u30b5\u30a4\u30c8\u3092\u898b\u308b\u4e8b\u304c\u5f79\u306b\u7acb\u3061\u307e\u3059\u3002  \n",
      "\u3057\u304b\u3057\u3001\u3069\u306e\u90e8\u5206\u304c\u6700\u521d\u304b\u3089\u91cd\u8981\u304b\u3001\u3068\u3044\u3046\u306e\u306f\u306a\u304b\u306a\u304b\u5206\u304b\u308a\u306b\u304f\u3044\u3068\u601d\u3044\u307e\u3059\u3002  \n",
      "\u304a\u52e7\u3081\u306e\u65b9\u6cd5\u306f\u3001\u307e\u305a\u306f\u4ed6\u4eba\u306b\u805e\u304f\u3053\u3068\u3067\u3059\u3002  \n",
      "\u6559\u3048\u3066\u3082\u3089\u3063\u305f\u65b9\u6cd5\u3092\u8a66\u3057\u3001\u305d\u306e\u610f\u5473\u3068\u5fdc\u7528\u7bc4\u56f2\u3092\u7406\u89e3\u3059\u308b\u3088\u3046\u306b\u3059\u308c\u3070\u3001\u81ea\u7136\u3068\u3084\u308a\u65b9\u304c\u8eab\u306b\u3064\u304f\u3068\u601d\u3044\u307e\u3059\u3002"
     ]
    },
    {
     "cell_type": "markdown",
     "metadata": {},
     "source": [
      "## \u3069\u3046\u3084\u3063\u3066\u6574\u7406\u3059\u308b\u304b ##\n",
      "\u304a\u305d\u3089\u304f\u3001\u6b21\u306e\u3088\u3046\u306a\u6bb5\u968e\u304c\u3042\u308b\u3068\u601d\u3044\u307e\u3059\u3002\n",
      "\n",
      "1. \u8907\u6570\u306e\u30bb\u30eb\u306e\u547d\u4ee4\u3092\u4e00\u3064\u306e\u30bb\u30eb\u306b\u307e\u3068\u3081\u308b\u3002\u305d\u3046\u3059\u308c\u3070\u3001\u3053\u306e\u30bb\u30eb\u3092\u30b3\u30d4\u30fc\u3059\u308b\u3053\u3068\u3067\u518d\u5229\u7528\u3067\u304d\u308b\u3002\n",
      "2. \u307e\u3068\u3081\u305f\u30bb\u30eb\u3092\u5143\u306b\u3001\u95a2\u6570\u3092\u5b9a\u7fa9\u3059\u308b\u3002\u305d\u3046\u3059\u308c\u3070\u3001\u4e00\u3064\u306enotebook\u306e\u4e2d\u3067\u7c21\u5358\u306b\u518d\u5229\u7528\u3067\u304d\u308b\u3002\n",
      "3. \u3044\u304f\u3064\u304b\u306e\u6709\u7528\u306a\u95a2\u6570\u304c\u3067\u304d\u305f\u3089\u3001\u72ec\u7acb\u3057\u305f\u30d1\u30a4\u30bd\u30f3\u30d5\u30a1\u30a4\u30eb\uff08\u62e1\u5f35\u5b50.py\uff09\u306e\u5f62\u5f0f\u3067\u4fdd\u5b58\u3059\u308b\u3002\u30d1\u30a4\u30bd\u30f3\u30d5\u30a1\u30a4\u30eb\u306fimport\u3068\u3044\u3046\u65b9\u6cd5\u3067\u547c\u3073\u51fa\u3057\u3066\u518d\u5229\u7528\u3067\u304d\u308b\u3002\n",
      "4. \u30aa\u30d6\u30b8\u30a7\u30af\u30c8\u6307\u5411\u30d7\u30ed\u30b0\u30e9\u30df\u30f3\u30b0\u306e\u8003\u3048\u65b9\u3092\u5b66\u3073\u3001\u30af\u30e9\u30b9\u3092\u5b9a\u7fa9\u3057\u305f\u30d1\u30a4\u30bd\u30f3\u30d5\u30a1\u30a4\u30eb\u3092\u4f5c\u6210\u3057\u3066\u5229\u7528\u3059\u308b\u3002\n",
      "\n",
      "I.\u304b\u3089III\uff0e\u304c\u3067\u304d\u308c\u3070\u3001\u5927\u62b5\u306e\u89e3\u6790\u306f\u53ef\u80fd\u306b\u306a\u308a\u307e\u3059\u3002\u3057\u304b\u3057\u3001IV\u306e\u30aa\u30d6\u30b8\u30a7\u30af\u30c8\u6307\u5411\u3092\u7406\u89e3\u3059\u308c\u3070\u3001\u30d7\u30ed\u30b0\u30e9\u30df\u30f3\u30b0\u6280\u8853\u3068\u3057\u3066\u306f\u3001\u5e45\u304c\u5e83\u304c\u308a\u307e\u3059\u3002  \n",
      "\u5177\u4f53\u7684\u306b\u306f\u3001\u65e2\u5b58\u306e\u30d1\u30c3\u30b1\u30fc\u30b8\u3092\u4f7f\u3046\u65b9\u6cd5\u3082\u5e83\u304c\u308a\u307e\u3059\u3057\u3001\u81ea\u5206\u3067\u30d1\u30c3\u30b1\u30fc\u30b8\u3092\u4f5c\u308b\u969b\u306b\u3082\u67d4\u8edf\u306b\u3067\u304d\u308b\u3088\u3046\u306b\u306a\u308a\u307e\u3059\u3002  \n",
      "\u30d7\u30ed\u30b0\u30e9\u30df\u30f3\u30b0\u306b\u8208\u5473\u306e\u3042\u308b\u4eba\u306fIV\u307e\u3067\u3092\u8996\u91ce\u306b\u5165\u308c\u308b\u3068\u826f\u3044\u3068\u601d\u3044\u307e\u3059\u3002  "
     ]
    },
    {
     "cell_type": "markdown",
     "metadata": {},
     "source": [
      "### I. \u30bb\u30eb\u3092\u307e\u3068\u3081\u308b ###\n",
      "\u8907\u6570\u306e\u30bb\u30eb\u3092\u4e00\u3064\u306b\u307e\u3068\u3081\u308b\u4f8b\u3092\u307f\u3066\u3044\u304d\u307e\u3057\u3087\u3046\u3002\u3000\u3000\n",
      "\u307e\u305a\u3001\u30c7\u30e2\u7528\u306e\u30c7\u30fc\u30bf\u30d5\u30a1\u30a4\u30eb\u3092\u4f5c\u308a\u307e\u3057\u3087\u3046\u3002\u3000\u3000\n",
      "\u4e0b\u8a18\u306e\u30c6\u30ad\u30b9\u30c8\u3092\u30e1\u30e2\u5e33\u306a\u3069\u306b\u8cbc\u308a\u3064\u3051\u3001demo_data.txt\u3068\u3044\u3046\u540d\u524d\u3067\u4fdd\u5b58\u3057\u3066\u304f\u3060\u3055\u3044\u3002"
     ]
    },
    {
     "cell_type": "raw",
     "metadata": {},
     "source": [
      "this row is just a comment row.\n",
      "1.0,    1.0\n",
      "2.0,    3.8\n",
      "3.0,    9.5\n",
      "4.0,    17.0\n",
      "5.0,    28.0\n"
     ]
    },
    {
     "cell_type": "markdown",
     "metadata": {},
     "source": [
      "\u307e\u305a\u306f\u3001\u4fdd\u5b58\u3057\u305f\u30d5\u30a1\u30a4\u30eb\u540d\u3092\u5909\u6570\u306b\u4ee3\u5165\u3057\u307e\u3057\u3087\u3046\u3002\u3064\u307e\u308a\u3001\u30d1\u30a4\u30bd\u30f3\u304c\u53c2\u7167\u3067\u304d\u308b\u3088\u3046\u306b\u30c7\u30fc\u30bf\u3068\u3057\u3066\u683c\u7d0d\u3059\u308b\u3068\u3044\u3046\u4e8b\u3067\u3059\u3002"
     ]
    },
    {
     "cell_type": "code",
     "collapsed": false,
     "input": [
      "filename='demo_data.txt'"
     ],
     "language": "python",
     "metadata": {},
     "outputs": [],
     "prompt_number": 2
    },
    {
     "cell_type": "markdown",
     "metadata": {},
     "source": [
      "\u6b21\u306b\u3001\u4fdd\u5b58\u3057\u305f\u30c7\u30fc\u30bf\u30d5\u30a1\u30a4\u30eb\u306e\u30d5\u30a9\u30eb\u30c0\u540d\u3082\u540c\u69d8\u306b\u3057\u307e\u3057\u3087\u3046\u3002\u3053\u308c\u306f\u3001\u30e6\u30fc\u30b6\u30fc\u306b\u3088\u3063\u3066\u7570\u306a\u308b\u306f\u305a\u3067\u3059\u306e\u3067\u3001\u3069\u3053\u306b\u4fdd\u5b58\u3057\u305f\u304b\u3092\u63a2\u3057\u3066\u304f\u3060\u3055\u3044\u3002\n",
      "\n",
      "\u30d5\u30a9\u30eb\u30c0\u540d\u304c\u5206\u304b\u3089\u306a\u3044\u4eba\u306f\u3001\u30d5\u30a1\u30a4\u30eb\u3092\u53f3\u30af\u30ea\u30c3\u30af\u3057\u3066\u3001\u30d7\u30ed\u30d1\u30c6\u30a3\u3092\u898b\u308c\u3070\u3001\u5834\u6240\u3068\u3057\u3066\u8a18\u3055\u308c\u3066\u3044\u307e\u3059\u306e\u3067\u3001\u305d\u308c\u3092\u30b3\u30d4\u30fc\u3057\u3066\u304f\u3060\u3055\u3044\u3002"
     ]
    },
    {
     "cell_type": "code",
     "collapsed": false,
     "input": [
      "folder_name='C:\\Users\\mk\\Documents\\python'"
     ],
     "language": "python",
     "metadata": {},
     "outputs": [],
     "prompt_number": 3
    },
    {
     "cell_type": "markdown",
     "metadata": {},
     "source": [
      "\u305f\u3060\u3057\u3001\u30d5\u30a1\u30a4\u30eb\u540d\u3084\u30d5\u30a9\u30eb\u30c0\u540d\u306b\u65e5\u672c\u8a9e\u304c\u542b\u307e\u308c\u3066\u3044\u308b\u5834\u5408\u306b\u306f\u3001\u2019\u2019\u306e\u524d\u306bu\u3092\u4ed8\u3051\u3066\u304f\u3060\u3055\u3044\u3002\n",
      "\u307e\u305f\u3001\u30d5\u30a9\u30eb\u30c0\u306e\u533a\u5207\u308a\u306e\uffe5\u306e\u4ee3\u308f\u308a\u306b/\u3092\u7528\u3044\u3066\u304f\u3060\u3055\u3044\u3002"
     ]
    },
    {
     "cell_type": "code",
     "collapsed": false,
     "input": [
      "folder_name=u'C:/Users/mk/Documents/2013/\u30c6\u30b9\u30c8'"
     ],
     "language": "python",
     "metadata": {},
     "outputs": [],
     "prompt_number": 4
    },
    {
     "cell_type": "code",
     "collapsed": false,
     "input": [
      "data_fullpath=folder_name+'\\\\'+filename"
     ],
     "language": "python",
     "metadata": {},
     "outputs": [],
     "prompt_number": 5
    },
    {
     "cell_type": "code",
     "collapsed": false,
     "input": [
      "print(data_fullpath)"
     ],
     "language": "python",
     "metadata": {},
     "outputs": [
      {
       "output_type": "stream",
       "stream": "stdout",
       "text": [
        "C:/Users/mk/Documents/2013/\u30c6\u30b9\u30c8\\demo_data.txt\n"
       ]
      }
     ],
     "prompt_number": 6
    },
    {
     "cell_type": "markdown",
     "metadata": {},
     "source": [
      "\u3053\u306e\u3088\u3046\u306b\u3001\u30d5\u30a9\u30eb\u30c0\u540d\u3068\u30d5\u30a1\u30a4\u30eb\u540d\u3092\u8db3\u3057\u3066\u8868\u793a\u3059\u308b\u3068\u4f55\u3068\u306a\u304fOK\u306a\u6c17\u304c\u3057\u307e\u3059\u3002\n",
      "\u6c17\u6301\u3061\u306e\u60aa\u3044\u4eba\u306f\u4ee5\u4e0b\u3067\u78ba\u8a8d\u3067\u304d\u307e\u3059\u3002"
     ]
    },
    {
     "cell_type": "code",
     "collapsed": false,
     "input": [
      "import os.path                            # os.path\u3068\u3044\u3046\u30e2\u30b8\u30e5\u30fc\u30eb\u306e\u30a4\u30f3\u30dd\u30fc\u30c8\n",
      "print(os.path.normpath(data_fullpath))    # \u6a19\u6e96\u7684\u306a\u8a18\u6cd5\u306b\u3057\u3066\u3001\u8868\u793a\u3059\u308b\u3002"
     ],
     "language": "python",
     "metadata": {},
     "outputs": [
      {
       "output_type": "stream",
       "stream": "stdout",
       "text": [
        "C:\\Users\\mk\\Documents\\2013\\\u30c6\u30b9\u30c8\\demo_data.txt\n"
       ]
      }
     ],
     "prompt_number": 7
    },
    {
     "cell_type": "markdown",
     "metadata": {},
     "source": [
      "\u305d\u308c\u3067\u306f\u3001\u30c7\u30fc\u30bf\u30d5\u30a1\u30a4\u30eb\u3092\u958b\u3044\u3066\u307f\u307e\u3057\u3087\u3046\u3002\n",
      "numpy\u3068\u3044\u3046\u30d1\u30c3\u30b1\u30fc\u30b8\u306eloadtxt\u3068\u3044\u3046\u95a2\u6570\u3092\u4f7f\u3044\u307e\u3059\u3002\n",
      "\u901a\u5e38\u3001\u4f7f\u3046\u30d1\u30c3\u30b1\u30fc\u30b8\u306fimport\u3059\u308b\u5fc5\u8981\u304c\u3042\u308a\u307e\u3059\u304c\u3001\n",
      "\n",
      "     ipython notebook --pylab=inline\n",
      "\n",
      "\u3067\u3053\u3053\u3092\u8d77\u52d5\u3057\u3066\u3044\u308c\u3070\u3001import\u306f\u81ea\u52d5\u7684\u306b\u3055\u308c\u3066\u3044\u307e\u3059\u3002"
     ]
    },
    {
     "cell_type": "code",
     "collapsed": false,
     "input": [
      "data=np.loadtxt(data_fullpath,delimiter=',', skiprows=1) # \u5217\u306e\u533a\u5207\u308a\u6587\u5b57\u306f\u30b3\u30f3\u30de\u3001\u5148\u982d\u884c\u306e\u307f\u30b3\u30e1\u30f3\u30c8\u306a\u306e\u3067\u98db\u3070\u3059\u3002"
     ],
     "language": "python",
     "metadata": {},
     "outputs": [],
     "prompt_number": 8
    },
    {
     "cell_type": "code",
     "collapsed": false,
     "input": [
      "print(data)"
     ],
     "language": "python",
     "metadata": {},
     "outputs": [
      {
       "output_type": "stream",
       "stream": "stdout",
       "text": [
        "[[  1.    1. ]\n",
        " [  2.    3.8]\n",
        " [  3.    9.5]\n",
        " [  4.   17. ]\n",
        " [  5.   28. ]]\n"
       ]
      }
     ],
     "prompt_number": 9
    },
    {
     "cell_type": "markdown",
     "metadata": {},
     "source": [
      "\u6b21\u306b\u3001\u3053\u308c\u3092\u30b0\u30e9\u30d5\u306b\u3057\u3066\u307f\u307e\u3057\u3087\u3046\u3002\n",
      "\u4eca\u5ea6\u306fmatplotlib\u3068\u3044\u3046\u30d1\u30c3\u30b1\u30fc\u30b8\u306epyplot\u3068\u3044\u3046\u30e2\u30b8\u30e5\u30fc\u30eb\u3092\u4f7f\u3044\u307e\u3059\u304c\u3001\u3053\u308c\u3082\u65e2\u306bimport\u3055\u308c\u3066\u304a\u308a\u3001plt\u3068\u3044\u3046\u540d\u524d\u304c\u4ed8\u3044\u3066\u3044\u307e\u3059\u3002"
     ]
    },
    {
     "cell_type": "code",
     "collapsed": false,
     "input": [
      "plt"
     ],
     "language": "python",
     "metadata": {},
     "outputs": [
      {
       "output_type": "pyout",
       "prompt_number": 10,
       "text": [
        "<module 'matplotlib.pyplot' from 'C:\\Python27\\lib\\site-packages\\matplotlib\\pyplot.pyc'>"
       ]
      }
     ],
     "prompt_number": 10
    },
    {
     "cell_type": "markdown",
     "metadata": {},
     "source": [
      "\u305d\u306e\u69d8\u5b50\u306f\u4e0a\u8a18\u306e\u69d8\u306b\u78ba\u8a8d\u3067\u304d\u307e\u3059\u3002\u3055\u3066\u3001\u30b0\u30e9\u30d5\u3092\u4f5c\u308a\u307e\u3059\u30021\u5217\u76ee\u3092\uff58\u3068\u3057\u307e\u3059\u3002"
     ]
    },
    {
     "cell_type": "code",
     "collapsed": false,
     "input": [
      "x=data[:,0] # python\u3067\u306f\uff10\u304b\u3089\u6570\u3048\u308b\u3002\u5927\u62b5\u306e\u30d7\u30ed\u30b0\u30e9\u30df\u30f3\u30b0\u8a00\u8a9e\u304c\u305d\u3046\u3002"
     ],
     "language": "python",
     "metadata": {},
     "outputs": [],
     "prompt_number": 11
    },
    {
     "cell_type": "markdown",
     "metadata": {},
     "source": [
      "2\u5217\u76ee\u3092y\u3068\u3057\u307e\u3059\u3002\n"
     ]
    },
    {
     "cell_type": "code",
     "collapsed": false,
     "input": [
      "y=data[:,1]"
     ],
     "language": "python",
     "metadata": {},
     "outputs": [],
     "prompt_number": 12
    },
    {
     "cell_type": "markdown",
     "metadata": {},
     "source": [
      "x\u3001y\u3067\u30b0\u30e9\u30d5\u306b\u3057\u3066\u307f\u307e\u3057\u3087\u3046\u3002"
     ]
    },
    {
     "cell_type": "code",
     "collapsed": false,
     "input": [
      "plt.plot(x,y)"
     ],
     "language": "python",
     "metadata": {},
     "outputs": [
      {
       "output_type": "pyout",
       "prompt_number": 13,
       "text": [
        "[<matplotlib.lines.Line2D at 0x47236d0>]"
       ]
      },
      {
       "output_type": "display_data",
       "png": "[encoded data removed]"
      }
     ],
     "prompt_number": 13
    },
    {
     "cell_type": "markdown",
     "metadata": {},
     "source": [
      "\u96e2\u6563\u30c7\u30fc\u30bf\u306a\u306e\u3067\u3001\u4e38\u5370\u306b\u3057\u307e\u3057\u3087\u3046\u3002"
     ]
    },
    {
     "cell_type": "code",
     "collapsed": false,
     "input": [
      "plt.plot(x,y,'o')"
     ],
     "language": "python",
     "metadata": {},
     "outputs": [
      {
       "output_type": "pyout",
       "prompt_number": 14,
       "text": [
        "[<matplotlib.lines.Line2D at 0x4790cb0>]"
       ]
      },
      {
       "output_type": "display_data",
       "png": "[encoded data removed]"
      }
     ],
     "prompt_number": 14
    },
    {
     "cell_type": "code",
     "collapsed": false,
     "input": [
      "plt.xlabel('x')"
     ],
     "language": "python",
     "metadata": {},
     "outputs": [
      {
       "output_type": "pyout",
       "prompt_number": 15,
       "text": [
        "<matplotlib.text.Text at 0x479b690>"
       ]
      },
      {
       "output_type": "display_data",
       "png": "[encoded data removed]"
      }
     ],
     "prompt_number": 15
    },
    {
     "cell_type": "markdown",
     "metadata": {},
     "source": [
      "plot\u3068\u540c\u3058\u30bb\u30eb\u3067\u306a\u3044\u3068\u3001\u3046\u307e\u304f\u3044\u304b\u306a\u3044\u3088\u3046\u3067\u3059\u3002"
     ]
    },
    {
     "cell_type": "code",
     "collapsed": false,
     "input": [
      "plt.plot(x,y,'o')\n",
      "plt.xlabel('x')"
     ],
     "language": "python",
     "metadata": {},
     "outputs": [
      {
       "output_type": "pyout",
       "prompt_number": 16,
       "text": [
        "<matplotlib.text.Text at 0x47a2ab0>"
       ]
      },
      {
       "output_type": "display_data",
       "png": "[encoded data removed]"
      }
     ],
     "prompt_number": 16
    },
    {
     "cell_type": "markdown",
     "metadata": {},
     "source": [
      "\u540c\u69d8\u306b\u3044\u308d\u3044\u308d\u3068\u898b\u305f\u76ee\u3092\u63c3\u3048\u3066\u3044\u304d\u307e\u3057\u3087\u3046\u3002"
     ]
    },
    {
     "cell_type": "code",
     "collapsed": false,
     "input": [
      "plt.plot(x,y,'ro')# r\u306f\u8d64\u306e\u4e8b\n",
      "plt.xlabel('x')\n",
      "plt.ylabel('y')\n",
      "plt.title('$y = x^2$?')# $\u3067\u631f\u3080\u3068\u6570\u5f0f\u3082\u66f8\u3051\u308b\u3002\n",
      "plt.grid(which='both')\n",
      "plt.xscale('log')\n",
      "plt.yscale('log')\n",
      "f=plt.gcf()\n",
      "f.set_size_inches(10.0,6.0) # \u30b0\u30e9\u30d5\u306e\u30b5\u30a4\u30ba\u8abf\u6574"
     ],
     "language": "python",
     "metadata": {},
     "outputs": [
      {
       "output_type": "display_data",
       "png": "[encoded data removed]"
      }
     ],
     "prompt_number": 17
    },
    {
     "cell_type": "markdown",
     "metadata": {},
     "source": [
      "\u3055\u3066\u3001\u5fc5\u9808\u306e\u30bb\u30eb\u3092\u307e\u3068\u3081\u3066\u307f\u307e\u3057\u3087\u3046\u3002  \n",
      "\u307e\u305a\u306f\u3001\u4ee5\u4e0b\u306b\u96c6\u3081\u307e\u3059\u3002  \n",
      "\u30c4\u30fc\u30eb\u30dc\u30bf\u30f3\u3092\u5229\u7528\u3057\u3066\u3001\u30b3\u30d4\u30fc\u3057\u3066Paste below\u3068\u3057\u3001Move cell down\u3068\u3059\u308c\u3070\u79fb\u52d5\u3067\u304d\u307e\u3059\u3002  \n",
      "\u79fb\u52d5\u3067\u304d\u305f\u3089\u3001Edit\u30e1\u30cb\u30e5\u30fc\u306eMerge cell above, below\u3092\u4f7f\u3063\u3066\u6574\u7406\u3067\u304d\u307e\u3059\u3002  "
     ]
    },
    {
     "cell_type": "code",
     "collapsed": false,
     "input": [
      "filename='demo_data.txt'\n",
      "folder_name=u'C:/Users/mk/Documents/2013/\u30c6\u30b9\u30c8'\n",
      "data_fullpath=folder_name+'\\\\'+filename\n",
      "data=np.loadtxt(data_fullpath,delimiter=',', skiprows=1) # \u5217\u306e\u533a\u5207\u308a\u6587\u5b57\u306f\u30b3\u30f3\u30de\u3001\u5148\u982d\u884c\u306e\u307f\u30b3\u30e1\u30f3\u30c8\u306a\u306e\u3067\u98db\u3070\u3059\u3002\n",
      "x=data[:,0] # python\u3067\u306f\uff10\u304b\u3089\u6570\u3048\u308b\u3002\u5927\u62b5\u306e\u30d7\u30ed\u30b0\u30e9\u30df\u30f3\u30b0\u8a00\u8a9e\u304c\u305d\u3046\u3002\n",
      "y=data[:,1]\n",
      "plt.plot(x,y,'ro')# r\u306f\u8d64\u306e\u4e8b\n",
      "plt.xlabel('x')\n",
      "plt.ylabel('y')\n",
      "plt.title('$y = x^2$?')# $\u3067\u631f\u3080\u3068\u6570\u5f0f\u3082\u66f8\u3051\u308b\u3002\n",
      "plt.grid(which='both')\n",
      "plt.xscale('log')\n",
      "plt.yscale('log')\n",
      "f=plt.gcf()\n",
      "f.set_size_inches(10.0,6.0) # \u30b0\u30e9\u30d5\u306e\u30b5\u30a4\u30ba\u8abf\u6574"
     ],
     "language": "python",
     "metadata": {},
     "outputs": [
      {
       "output_type": "display_data",
       "png": "[encoded data removed]"
      }
     ],
     "prompt_number": 18
    },
    {
     "cell_type": "markdown",
     "metadata": {},
     "source": [
      "1\u500b\u306b\u307e\u3068\u3081\u305f\u3053\u306e\u30bb\u30eb\u3060\u3051\u3067\u6b63\u3057\u304f\u52d5\u4f5c\u3059\u308b\u304b\u3069\u3046\u304b\u306f\u3001\u307e\u305aKernel\u3092Restart\u3057\u3001\u3053\u306e\u30bb\u30eb\u3060\u3051\u3092\u9078\u629e\u3057\u3066\u5b9f\u884c\u3059\u308c\u3070\u78ba\u8a8d\u3067\u304d\u308b\u3067\u3057\u3087\u3046\u3002"
     ]
    },
    {
     "cell_type": "markdown",
     "metadata": {},
     "source": [
      "### II. \u95a2\u6570\u306b\u3059\u308b ###\n",
      "\u307e\u3068\u3081\u305f\u30bb\u30eb\u306e\u3046\u3061\u3001\u518d\u5229\u7528\u3057\u305d\u3046\u306a\u90e8\u5206\u3092\u95a2\u6570\u3068\u3057\u3066\u5b9a\u7fa9\u3057\u307e\u3057\u3087\u3046\u3002\n",
      "\u7c21\u5358\u3067\u3059\u3002"
     ]
    },
    {
     "cell_type": "code",
     "collapsed": false,
     "input": [
      "def file_plot_xy(fullpath, y_offset=0):\n",
      "    data=np.loadtxt(fullpath,delimiter=',', skiprows=1) # \u5217\u306e\u533a\u5207\u308a\u6587\u5b57\u306f\u30b3\u30f3\u30de\u3001\u5148\u982d\u884c\u306e\u307f\u30b3\u30e1\u30f3\u30c8\u306a\u306e\u3067\u98db\u3070\u3059\u3002\n",
      "    x=data[:,0] # python\u3067\u306f\uff10\u304b\u3089\u6570\u3048\u308b\u3002\u5927\u62b5\u306e\u30d7\u30ed\u30b0\u30e9\u30df\u30f3\u30b0\u8a00\u8a9e\u304c\u305d\u3046\u3002\n",
      "    y=data[:,1]+y_offset\n",
      "    plt.plot(x,y,'o',label='y offset = '+str(y_offset))# r\u306f\u8d64\u306e\u4e8b\n",
      "    plt.xlabel('x')\n",
      "    plt.ylabel('y')\n"
     ],
     "language": "python",
     "metadata": {},
     "outputs": [],
     "prompt_number": 19
    },
    {
     "cell_type": "markdown",
     "metadata": {},
     "source": [
      "\u5f8c\u3067\u4f7f\u3046\u305f\u3081\u306b\u3001\u5c11\u3057\u624b\u3092\u52a0\u3048\u307e\u3057\u305f\u3002\u30aa\u30d7\u30b7\u30e7\u30f3\u3068\u3057\u3066\u3001y_offset\u3068\u3044\u3046\u5f15\u6570\u3092\u4e0e\u3048\u308b\u4e8b\u304c\u3067\u304d\u307e\u3059\u3002  \n",
      "\u3053\u306e\u5f15\u6570\u304c\u8a2d\u5b9a\u3055\u308c\u3066\u3044\u306a\u3051\u308c\u3070\u3001\u30c7\u30d5\u30a9\u30eb\u30c8\u5024\u306f0\u306b\u306a\u3063\u3066\u3044\u307e\u3059\u3002  \n",
      "\u307e\u305f\u3001\u51e1\u4f8b\uff08legend\uff09\u306b\u4f7f\u3048\u308b\u3088\u3046\u306b\u3001\u30e9\u30d9\u30eb\u3092\u8a2d\u5b9a\u3057\u307e\u3057\u305f\u3002\n"
     ]
    },
    {
     "cell_type": "code",
     "collapsed": false,
     "input": [
      "file_plot_xy(data_fullpath,y_offset=1)\n",
      "plt.legend()\n"
     ],
     "language": "python",
     "metadata": {},
     "outputs": [
      {
       "output_type": "pyout",
       "prompt_number": 20,
       "text": [
        "<matplotlib.legend.Legend at 0x57bc6d0>"
       ]
      },
      {
       "output_type": "display_data",
       "png": "[encoded data removed]"
      }
     ],
     "prompt_number": 20
    },
    {
     "cell_type": "markdown",
     "metadata": {},
     "source": [
      "\u4eca\u5ea6\u306f\u3001\u5929\u4e0b\u308a\u306b\u4fbf\u5229\u306a\u95a2\u6570\u3092\u4e0e\u3048\u307e\u3059\u3002  \n",
      "\u3053\u308c\u306f\u3001\u30b0\u30e9\u30d5\u306e\u8272\u3092\u5f8c\u304b\u3089\u8a2d\u5b9a\u3059\u308b\u95a2\u6570\u3067\u3059\u3002  \n",
      "\u4e00\u3064\u3060\u3051\u8a2d\u5b9a\u3059\u308b\u3068\u3001\u6700\u521d\u306e\u30d7\u30ed\u30c3\u30c8\u306e\u307f\u304c\u8272\u5909\u66f4\u3055\u308c\u307e\u3059\u3002  \n",
      "\u591a\u6570\u8a2d\u5b9a\u3059\u308b\u3068\u3001\u53ef\u80fd\u306a\u7bc4\u56f2\u3067\u8272\u3092\u5909\u66f4\u3057\u307e\u3059\u3002\n",
      "[set_color_cycle\u3068\u3044\u3046\u95a2\u6570](http://matplotlib.org/api/axes_api.html?highlight=set_color_cycle#matplotlib.axes.Axes.set_color_cycle)\u3082\u521d\u3081\u304b\u3089\u3042\u308a\u307e\u3059\u304c,\u30d7\u30ed\u30c3\u30c8\u524d\u306b\u8a2d\u5b9a\u3059\u308b\u5fc5\u8981\u304c\u3042\u308a\u307e\u3059\u3002\u3053\u3061\u3089\u306f\u30d7\u30ed\u30c3\u30c8\u5f8c\u306b\u5909\u66f4\u3059\u308b\u95a2\u6570\u3067\u3059\u3002"
     ]
    },
    {
     "cell_type": "code",
     "collapsed": false,
     "input": [
      "def set_plot_color(colors):  # set_color_cycle()\u3068\u3044\u3046\u95a2\u6570\u3082\u521d\u3081\u304b\u3089\u3042\u308a\u307e\u3059\u304c,\u30d7\u30ed\u30c3\u30c8\u524d\u306b\u8a2d\u5b9a\u3059\u308b\u5fc5\u8981\u304c\u3042\u308a\u307e\u3059\u3002\u3053\u3061\u3089\u306f\u30d7\u30ed\u30c3\u30c8\u5f8c\u306b\u5909\u66f4\u3059\u308b\u95a2\u6570\u3067\u3059\u3002\n",
      "    ax=plt.gca()#\u73fe\u6642\u70b9\u3067\u63cf\u753b\u5bfe\u8c61\u3068\u306a\u3063\u3066\u3044\u308b\u30b0\u30e9\u30d5\u306exy\u8ef8\u3092ax\u3068\u3059\u308b\u3002\n",
      "    #ax.set_color_cycle(colors)\n",
      "    lines=ax.lines  #ax\u3067\u63cf\u753b\u3055\u308c\u305f\u7dda\uff08\u96e2\u6563\u7684\u306a\u30d7\u30ed\u30c3\u30c8\u3082\u542b\u3080\uff09\u306e\u30ea\u30b9\u30c8\u3092lines\u3068\u3059\u308b\u3002\n",
      "    if not isinstance(colors, list):#\u3053\u306e\u95a2\u6570\u306e\u5f15\u6570colors\u304c\u30ea\u30b9\u30c8\u3067\u306a\u3044\u5834\u5408\u3001\u3064\u307e\u308a\u3001\u5358\u4f53\u306e\u8272\u6307\u5b9a\u3060\u3063\u305f\u5834\u5408\u3001\n",
      "        line0=lines[0]#\u6700\u521d\u306e\u7dda\u3092line0\u3068\u3057\u3066\u3001\n",
      "        line0.set_color(colors)#\u305d\u306e\u8272\u3092colors\u306b\u305b\u3088\u3002\n",
      "    else:                            # colors\u304c\u30ea\u30b9\u30c8\u3060\u3063\u305f\u5834\u5408\u3001\n",
      "        for i in range(min(len(lines),len(colors))):#\u305d\u306e\u30e1\u30f3\u30d0\u30fc\u6570\u3068lines\u306e\u6570\u306e\u5c11\u306a\u3044\u65b9\u307e\u3067\u3067\u3001\n",
      "            line=lines[i]#\u4e00\u3064\u4e00\u3064\u306e\u7dda\u306b\u5bfe\u3057\u3066\u3001\n",
      "            line.set_color(colors[i])#\u8272\u3092\u6307\u5b9a\u3057\u307e\u3059\u3002"
     ],
     "language": "python",
     "metadata": {},
     "outputs": [],
     "prompt_number": 21
    },
    {
     "cell_type": "markdown",
     "metadata": {},
     "source": [
      "\u8a2d\u5b9a\u3057\u305f\u30aa\u30d5\u30bb\u30c3\u30c8\u3068\u30e9\u30d9\u30eb\u3092\u5229\u7528\u3057\u3066\u3001\u8272\u3093\u306a\u8272\u3067\u30b0\u30e9\u30d5\u3092\u66f8\u3044\u3066\u307f\u307e\u3059\u3002"
     ]
    },
    {
     "cell_type": "code",
     "collapsed": false,
     "input": [
      "#set_plot_color(['black', 'red', 'blue', 'green','#ff00ff'])# \u8272\u306e\u6307\u5b9a\u306e\u4ed5\u65b9\u306e\u4f8b\n",
      "file_plot_xy(data_fullpath)\n",
      "file_plot_xy(data_fullpath,y_offset=1.0)\n",
      "file_plot_xy(data_fullpath,y_offset=2.0)\n",
      "file_plot_xy(data_fullpath,y_offset=3.0)\n",
      "file_plot_xy(data_fullpath,y_offset=4.0)\n",
      "set_plot_color(['black', 'red', 'blue', 'green','#ff00ff'])# \u8272\u306e\u6307\u5b9a\u306e\u4ed5\u65b9\u306e\u4f8b\n",
      "plt.legend(loc='best')  #\u6700\u9069\u306a\u5834\u6240\u306b\u51e1\u4f8b\u3092\u66f8\u3051\n",
      "f=plt.gcf()\n",
      "f.set_size_inches(10.0,6.0) # \u30b0\u30e9\u30d5\u306e\u30b5\u30a4\u30ba\u8abf\u6574"
     ],
     "language": "python",
     "metadata": {},
     "outputs": [
      {
       "output_type": "display_data",
       "png": "[encoded data removed]"
      }
     ],
     "prompt_number": 22
    },
    {
     "cell_type": "markdown",
     "metadata": {},
     "source": [
      "\u305d\u306e\uff12\u306b\u7d9a\u304f\u3002\uff08\u7570\u306a\u308b\u30ce\u30fc\u30c8\u30d5\u30a1\u30a4\u30eb\u306b\u30ea\u30f3\u30af\u3059\u308b\u306e\u306f\u5bb9\u6613\u3067\u306f\u306a\u3055\u305d\u3046\u306a\u306e\u3067\u3001\u30ea\u30f3\u30af\u306f\u3042\u308a\u307e\u305b\u3093\u3002\uff09"
     ]
    },
    {
     "cell_type": "markdown",
     "metadata": {},
     "source": [
      "# \u86c7\u8db3 #\n",
      "\u50d5\u81ea\u8eab\u306f\u666e\u6bb5\u306f\n",
      "\n",
      "    ipython notebook --pylab=inline\n",
      "\n",
      "\u3067\u306f\u306a\u304f\u3001spyder\u4e0a\u3067\u4f5c\u696d\u3092\u3057\u3066\u3044\u307e\u3059\u3002\n",
      "\u306b\u3082\u95a2\u308f\u3089\u305a\u3001\u3053\u3053\u3067\u7d39\u4ecb\u3057\u3066\u3044\u308b\u7406\u7531\u3092\u66f8\u3044\u3066\u304a\u304d\u307e\u3059\u3002\n",
      "Matlab\u3068\u3044\u3046\u9ad8\u4fa1\u306a\u30bd\u30d5\u30c8\u304c\u3042\u308a\u307e\u3059\u3002\u3053\u308c\u306f\u4eca\u3067\u3082\u304a\u305d\u3089\u304f\u591a\u304f\u306e\u30e6\u30fc\u30b6\u3092\u6709\u3057\u3066\u3044\u308b\u6570\u5024\u89e3\u6790\u30bd\u30d5\u30c8\u3067\u3059\u3002\n",
      "\u3053\u308c\u3092\u76ee\u6307\u3057\u3066\u958b\u767a\u3055\u308c\u305f\u30aa\u30fc\u30d7\u30f3\u3001\u30d5\u30ea\u30fc\u306a\u30bd\u30d5\u30c8\u306b\u306foctave, scilab, pylab\u3068\u3042\u308a\u307e\u3059\u3002\n",
      "\u3053\u3053\u3067\u7d39\u4ecb\u3057\u3066\u3044\u308b\u306e\u306fpylab\u306e\u74b0\u5883\u306e\u6700\u65b0\u306e\u5f62\u614b\u3068\u3044\u3046\u4e8b\u306b\u306a\u308a\u307e\u3059\u3002\n",
      "\u3053\u306e\u74b0\u5883\u306fMatlab\u3084Mathematica\u3067\u53e4\u304f\u304b\u3089\u5b9f\u73fe\u3057\u3066\u3044\u305f\u5f62\u614b\u306b\u8fd1\u304f\u3001\u521d\u5fc3\u8005\u306b\u306f\u3068\u3066\u3082\u5165\u308a\u3084\u3059\u3044\u3082\u306e\u3067\u3059\u3002\n",
      "\u50d5\u81ea\u8eab\u3082\u305d\u306e\u6bb5\u968e\u3092\u8e0f\u3093\u3067\u4eca\u306b\u81f3\u3063\u3066\u3044\u307e\u3059\u3002\n",
      "\n",
      "\u3053\u306e\u74b0\u5883\u3060\u3068\u30b0\u30e9\u30d5\u306f\u305d\u308c\u307b\u3069\u5947\u9e97\u306b\u306f\u898b\u3048\u307e\u305b\u3093\u3002\n",
      "\n",
      "    ipython notebook --pylab\n",
      "\n",
      "\u3067\u8d77\u52d5\u3059\u308b\u3068\u3001\u591a\u6570\u306e\u30b0\u30e9\u30d5\u304c\u304b\u3055\u306a\u3063\u3066\u3057\u307e\u3044\u307e\u3059\u304c\u3001\u4e00\u65e6\u30b0\u30e9\u30d5\u3092\u9589\u3058\u3066\u3001\u6700\u5f8c\u306e\u30b0\u30e9\u30d5\u3092\u518d\u5b9f\u884c\u3059\u308b\u3068\u3001\n",
      "\u50d5\u304c\u666e\u6bb5\u304b\u3089\u76ee\u306b\u3057\u3066\u3044\u308bMatplotlib\u306e\u51fa\u529b\u306b\u306a\u308a\u307e\u3059\u3002\n",
      "\n",
      "\u3068\u306f\u3044\u3048\u3001\u8a66\u884c\u932f\u8aa4\u304c\u3057\u3084\u3059\u304f\u3001\u305d\u306e\u5f62\u8de1\u3092\u6b8b\u3057\u3084\u3059\u304f\u3001\u3057\u304b\u3082\u3001\u6574\u7406\u3082\u3057\u3084\u3059\u3044\u3068\u3044\u3046\u3053\u306e\u74b0\u5883\u306f\u521d\u5fc3\u8005\u306e\u307f\u306a\u3089\u305a\u3001\n",
      "\u8a66\u884c\u932f\u8aa4\u3092\u3057\u306a\u304c\u3089\u89e3\u6790\u65b9\u6cd5\u3092\u60a9\u3080\u74b0\u5883\u3068\u3057\u3066\u3082\u512a\u308c\u3066\u3044\u308b\u3068\u601d\u3044\u307e\u3059\u3002\n",
      "\n",
      "\u30d7\u30ed\u30b0\u30e9\u30e0\u958b\u767a\u74b0\u5883\u3068\u3057\u3066\u306f\u3001spyder\u3092\u304a\u52e7\u3081\u3057\u307e\u3059\u3002"
     ]
    }
   ],
   "metadata": {}
  }
 ]
}