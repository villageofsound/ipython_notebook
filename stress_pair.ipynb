{
 "metadata": {
  "name": "",
  "signature": "sha256:f982ba237741fe4f5381f36a54e50a4c939beb0f32ef6989ffb595bf83388ba1"
 },
 "nbformat": 3,
 "nbformat_minor": 0,
 "worksheets": [
  {
   "cells": [
    {
     "cell_type": "code",
     "collapsed": false,
     "input": [
      "%matplotlib inline\n",
      "from pyrecipes import *\n",
      "import matplotlib.pyplot as plt\n",
      "from mpl_toolkits.axes_grid1 import make_axes_locatable\n",
      "import brewer2mpl\n",
      "import seaborn as sns\n",
      "sns.set_style('white')\n",
      "colors = sns.color_palette()\n",
      "greys  = brewer2mpl.get_map('Greys', 'Sequential', 9)"
     ],
     "language": "python",
     "metadata": {},
     "outputs": [],
     "prompt_number": 2
    },
    {
     "cell_type": "code",
     "collapsed": false,
     "input": [
      "gmap = brewer2mpl.get_map('Greys', 'Sequential',6)\n",
      "bmap = brewer2mpl.get_map('PiYG', 'Diverging',11)\n",
      "def draw_particles(fig, ax, pos, radius):\n",
      "    for i in range(len(pos)):\n",
      "        circ = plt.Circle(pos[i,0:2],radius=radius,\n",
      "                          edgecolor=greys.mpl_colors[4],\n",
      "                          facecolor='none',lw=2.0)\n",
      "        ax.add_patch(circ)\n",
      "        \n",
      "def draw_stress(fig, ax, phi, sxy, vmin, vmax):\n",
      "    im = ax.imshow(((1-phi)*sxy).T, origin='lower', interpolation='bicubic', \n",
      "                   cmap=bmap.get_mpl_colormap(),alpha=0.5,\n",
      "                   vmin=vmin,vmax=vmax)\n",
      "    divider = make_axes_locatable(ax)\n",
      "    cax = divider.append_axes(\"right\", size=\"5%\", pad=0.15)\n",
      "    cbar= fig.colorbar(im, cax)\n",
      "    \n",
      "def draw_vel(fig, ax, x, y, phi, ux, uy, skipx, skipy, vscale):\n",
      "    ax.quiver(x[::skipx,::skipy], y[::skipx,::skipy],\n",
      "              (1.0-phi[::skipx,::skipy])*ux[::skipx,::skipy],\n",
      "              (1.0-phi[::skipx,::skipy])*uy[::skipx,::skipy],\n",
      "              units='xy',angles='uv',scale=vscale)"
     ],
     "language": "python",
     "metadata": {},
     "outputs": [],
     "prompt_number": 3
    },
    {
     "cell_type": "code",
     "collapsed": false,
     "input": [
      "#data import\n",
      "tag = \"./2particle/\"\n",
      "#fname = tag+\"/output/data.h5\"\n",
      "fname = tag + \"data.h5\"\n",
      "radius= 8.0\n",
      "Lx = Ly = 64.0\n",
      "srate = 0.01\n",
      "\n",
      "nump, numf = get_h5_pconf(fname)\n",
      "h5file = h5py.File(fname, \"r\")\n",
      "\n",
      "x = h5file[\"/coord_data/x\"].value[:,:,0]\n",
      "y = h5file[\"/coord_data/y\"].value[:,:,0]\n",
      "count=0\n",
      "for i in np.arange(1,numf+1, 3):\n",
      "    fig, ax = plt.subplots(figsize=(7,7))\n",
      "    ploc = '/frame_'+str(i)+'/particle_data/'\n",
      "    floc = '/frame_'+str(i)+'/field_data/'\n",
      "\n",
      "    #particle data\n",
      "    pos = h5file[ploc+\"pos\"].value\n",
      "    \n",
      "    #field data\n",
      "    ux  = h5file[floc+\"u_x\"].value[:,:,0]\n",
      "    uy  = h5file[floc+\"u_y\"].value[:,:,0]\n",
      "    phi = h5file[floc+\"phi\"].value[:,:,0]\n",
      "    sxy = h5file[floc+\"tau_xy\"].value[:,:,0]\n",
      "    \n",
      "    draw_stress(fig, ax, phi, sxy/srate*2.0, -0.5, 0.5)\n",
      "    draw_vel(fig, ax, x, y, phi, ux-srate*(y-Ly/2.0), uy, 3, 3, 0.055*srate*radius)\n",
      "    draw_particles(fig, ax, pos, radius)\n",
      "    fig.savefig('./images/test_'+str(count)+'.png')\n",
      "    plt.close(fig)\n",
      "    count=count+1"
     ],
     "language": "python",
     "metadata": {},
     "outputs": [],
     "prompt_number": 5
    },
    {
     "cell_type": "code",
     "collapsed": false,
     "input": [],
     "language": "python",
     "metadata": {},
     "outputs": []
    }
   ],
   "metadata": {}
  }
 ]
}